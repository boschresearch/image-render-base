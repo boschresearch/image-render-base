{
 "cells": [
  {
   "cell_type": "code",
   "execution_count": null,
   "metadata": {},
   "outputs": [],
   "source": [
    "class CEnumValue(enum.Enum):\n",
    "    def __init__(self, _xValue=None):\n",
    "        super().__init__()\n",
    "\n",
    "        self.iValue: int = 0\n",
    "\n",
    "        if _xValue is None:\n",
    "            return\n",
    "        # endif\n",
    "\n",
    "        if isinstance(_xValue, str):\n",
    "            if _xValue not in self.__annotations__:\n",
    "                raise RuntimeError(f\"Invalid value '{_xValue}'\")\n",
    "            # endif\n",
    "            self.iValue = getattr(self, _xValue)\n",
    "        elif isinstance(_xValue, int):\n",
    "            if _xValue < 0 or _xValue > 2:\n",
    "                raise RuntimeError(f\"Invalid integer value '{_xValue}'\")\n",
    "            # endif\n",
    "            self.iValue = _xValue\n",
    "        elif isinstance(_xValue, type(self)):\n",
    "            self.iValue = _xValue.iValue\n",
    "        else:\n",
    "            raise RuntimeError(\"Invalid initialization type\")\n",
    "        # endif\n",
    "\n",
    "    # enddef\n",
    "\n",
    "    def __str__(self):\n",
    "        for sKey, iVal in self.__annotations__.items():\n",
    "            if iVal == self.iValue:\n",
    "                return sKey\n",
    "            # endif\n",
    "        # endfor\n",
    "        raise RuntimeError(\"Invalid internal value\")\n",
    "\n",
    "    # enddef\n",
    "\n",
    "\n",
    "# endclass\n"
   ]
  },
  {
   "cell_type": "code",
   "execution_count": null,
   "metadata": {},
   "outputs": [],
   "source": [
    "\n",
    "from anybase.cls_enum_value import CEnumValue\n",
    "from enum import Enum\n",
    "\n",
    "class CSetOriginType(CEnumValue):\n",
    "    ORIGIN_CENTER_OF_MASS = 0\n",
    "    ORIGIN_CENTER_OF_VOLUME = 1\n",
    "# endclass\n",
    "\n",
    "xA = CSetOriginType()\n",
    "print(xA.__dict__)\n",
    "\n",
    "\n",
    "# print(type(CSetOriginType.ORIGIN_CENTER_OF_MASS.name))\n",
    "# print(xA.__annotations__)\n",
    "\n",
    "# print(dir(xA))\n",
    "# print(CSetOriginType.__annotations__)\n",
    "# print(getattr(xA, \"ORIGIN_CENTER_OF_MASS\"))\n"
   ]
  }
 ],
 "metadata": {
  "kernelspec": {
   "display_name": "Python 3.10.6 ('cath3')",
   "language": "python",
   "name": "python3"
  },
  "language_info": {
   "codemirror_mode": {
    "name": "ipython",
    "version": 3
   },
   "file_extension": ".py",
   "mimetype": "text/x-python",
   "name": "python",
   "nbconvert_exporter": "python",
   "pygments_lexer": "ipython3",
   "version": "3.10.6"
  },
  "orig_nbformat": 4,
  "vscode": {
   "interpreter": {
    "hash": "d144e52b91e679811e4cceb0036205285e180e4be0ba7d3643a3ec09e4fe9f87"
   }
  }
 },
 "nbformat": 4,
 "nbformat_minor": 2
}
